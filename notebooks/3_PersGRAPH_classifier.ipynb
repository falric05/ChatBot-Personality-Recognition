{
 "cells": [
  {
   "cell_type": "code",
   "execution_count": 12,
   "metadata": {},
   "outputs": [
    {
     "name": "stdout",
     "output_type": "stream",
     "text": [
      "The autoreload extension is already loaded. To reload it, use:\n",
      "  %reload_ext autoreload\n"
     ]
    }
   ],
   "source": [
    "%load_ext autoreload\n",
    "%autoreload 2\n",
    "\n",
    "import os\n",
    "from os.path import join\n",
    "import json\n",
    "import numpy as np\n",
    "from matplotlib import pyplot as plt\n",
    "\n",
    "from lib.BBData import character_dict\n",
    "from lib.BBDataLoad import open_char_dataset, process_char_dataset\n",
    "from lib.metrics.persgraph_classifier import TVShowGraphDataset, PersGRAPH_classifier"
   ]
  },
  {
   "cell_type": "code",
   "execution_count": 2,
   "metadata": {},
   "outputs": [],
   "source": [
    "characters = list(character_dict.keys())\n",
    "characters_noDefault = list(character_dict.keys())\n",
    "characters_noDefault.remove('Default')\n",
    "\n",
    "character = 'Barney'\n",
    "base_folder = os.getcwd()\n",
    "data_folder = os.path.join(base_folder, 'Data')\n",
    "pt_folder = os.path.join(base_folder, 'Data', 'pt_graphs')\n",
    "characters_folder = os.path.join(data_folder, 'Characters')\n",
    "model_path = os.path.join(os.getcwd(), 'models', 'persgraph_classifier')\n",
    "figsize = (8, 8)"
   ]
  },
  {
   "attachments": {},
   "cell_type": "markdown",
   "metadata": {},
   "source": [
    "---"
   ]
  },
  {
   "cell_type": "code",
   "execution_count": 10,
   "metadata": {},
   "outputs": [],
   "source": [
    "persgraph_cls = PersGRAPH_classifier(model_path, use_cuda=True)\n",
    "# persgraph_cls.set_characters(characters)\n",
    "# persgraph_cls.create_data(data_folder, characters_folder, \n",
    "#                           verbose=True, override_graphs = True)"
   ]
  },
  {
   "cell_type": "code",
   "execution_count": 4,
   "metadata": {},
   "outputs": [
    {
     "data": {
      "text/plain": [
       "[3303, 7414, 653, 1724, 1515, 95, 5238, 4758, 9394]"
      ]
     },
     "execution_count": 4,
     "metadata": {},
     "output_type": "execute_result"
    }
   ],
   "source": [
    "count_data = [0 for c in characters]\n",
    "folderset_path = join(data_folder, 'graphs', 'trainSet')\n",
    "\n",
    "for jsonfile in os.listdir(folderset_path):\n",
    "    graph = join(folderset_path, jsonfile)\n",
    "\n",
    "    with open(graph, \"r\") as file:\n",
    "        graphConversation = json.load(file)\n",
    "        yonehot = graphConversation['y']\n",
    "        count_data[np.argmax(yonehot)] += 1\n",
    "\n",
    "count_data"
   ]
  },
  {
   "attachments": {},
   "cell_type": "markdown",
   "metadata": {},
   "source": [
    "---"
   ]
  },
  {
   "cell_type": "code",
   "execution_count": 4,
   "metadata": {},
   "outputs": [],
   "source": [
    "X_train, X_valid, X_test = persgraph_cls.get_data(pt_folder, batch_size=512)"
   ]
  },
  {
   "cell_type": "code",
   "execution_count": 11,
   "metadata": {},
   "outputs": [
    {
     "name": "stderr",
     "output_type": "stream",
     "text": [
      "Training epoch = 0: 100%|██████████| 67/67 [00:07<00:00,  8.88it/s, training_loss=2.04, training_f1score=0.0901]\n",
      "## Valid epoch = 0: 100%|██████████| 12/12 [00:01<00:00, 10.32it/s, valid_loss=1.92, valid_f1score=0.151]\n",
      "Training epoch = 1: 100%|██████████| 67/67 [00:07<00:00,  8.91it/s, training_loss=1.91, training_f1score=0.148]\n",
      "## Valid epoch = 1: 100%|██████████| 12/12 [00:01<00:00, 10.35it/s, valid_loss=1.91, valid_f1score=0.147]\n",
      "Training epoch = 2: 100%|██████████| 67/67 [00:07<00:00,  8.89it/s, training_loss=1.9, training_f1score=0.146]\n",
      "## Valid epoch = 2: 100%|██████████| 12/12 [00:01<00:00, 10.36it/s, valid_loss=1.91, valid_f1score=0.148]\n",
      "Training epoch = 3: 100%|██████████| 67/67 [00:07<00:00,  8.89it/s, training_loss=1.84, training_f1score=0.191]\n",
      "## Valid epoch = 3: 100%|██████████| 12/12 [00:01<00:00, 10.34it/s, valid_loss=1.79, valid_f1score=0.259]\n",
      "Training epoch = 4: 100%|██████████| 67/67 [00:07<00:00,  8.83it/s, training_loss=1.75, training_f1score=0.289]\n",
      "## Valid epoch = 4: 100%|██████████| 12/12 [00:01<00:00, 10.32it/s, valid_loss=1.78, valid_f1score=0.28] \n",
      "Training epoch = 5: 100%|██████████| 67/67 [00:07<00:00,  8.79it/s, training_loss=1.73, training_f1score=0.309]\n",
      "## Valid epoch = 5: 100%|██████████| 12/12 [00:01<00:00, 10.29it/s, valid_loss=1.77, valid_f1score=0.292]\n",
      "Training epoch = 6: 100%|██████████| 67/67 [00:07<00:00,  8.91it/s, training_loss=1.7, training_f1score=0.327] \n",
      "## Valid epoch = 6: 100%|██████████| 12/12 [00:01<00:00,  9.67it/s, valid_loss=1.77, valid_f1score=0.296]\n",
      "Training epoch = 7: 100%|██████████| 67/67 [00:07<00:00,  8.89it/s, training_loss=1.67, training_f1score=0.362]\n",
      "## Valid epoch = 7: 100%|██████████| 12/12 [00:01<00:00,  9.54it/s, valid_loss=1.76, valid_f1score=0.336]\n",
      "Training epoch = 8: 100%|██████████| 67/67 [00:07<00:00,  8.97it/s, training_loss=1.63, training_f1score=0.413]\n",
      "## Valid epoch = 8: 100%|██████████| 12/12 [00:01<00:00,  9.51it/s, valid_loss=1.72, valid_f1score=0.362]\n",
      "Training epoch = 9: 100%|██████████| 67/67 [00:07<00:00,  8.95it/s, training_loss=1.58, training_f1score=0.46] \n",
      "## Valid epoch = 9: 100%|██████████| 12/12 [00:01<00:00,  9.78it/s, valid_loss=1.7, valid_f1score=0.384] \n",
      "Training epoch = 10: 100%|██████████| 67/67 [00:07<00:00,  8.94it/s, training_loss=1.55, training_f1score=0.486]\n",
      "## Valid epoch = 10: 100%|██████████| 12/12 [00:01<00:00, 10.25it/s, valid_loss=1.7, valid_f1score=0.385]\n",
      "Training epoch = 11: 100%|██████████| 67/67 [00:07<00:00,  8.91it/s, training_loss=1.53, training_f1score=0.5]  \n",
      "## Valid epoch = 11: 100%|██████████| 12/12 [00:01<00:00, 10.43it/s, valid_loss=1.7, valid_f1score=0.381]\n",
      "Training epoch = 12: 100%|██████████| 67/67 [00:07<00:00,  8.84it/s, training_loss=1.52, training_f1score=0.508]\n",
      "## Valid epoch = 12: 100%|██████████| 12/12 [00:01<00:00, 10.25it/s, valid_loss=1.7, valid_f1score=0.377]\n",
      "Training epoch = 13: 100%|██████████| 67/67 [00:07<00:00,  8.76it/s, training_loss=1.51, training_f1score=0.514]\n",
      "## Valid epoch = 13: 100%|██████████| 12/12 [00:01<00:00, 10.30it/s, valid_loss=1.7, valid_f1score=0.388]\n",
      "Training epoch = 14: 100%|██████████| 67/67 [00:07<00:00,  8.82it/s, training_loss=1.51, training_f1score=0.514]\n",
      "## Valid epoch = 14: 100%|██████████| 12/12 [00:01<00:00, 10.17it/s, valid_loss=1.7, valid_f1score=0.387]\n",
      "Training epoch = 15: 100%|██████████| 67/67 [00:07<00:00,  8.70it/s, training_loss=1.5, training_f1score=0.52]  \n",
      "## Valid epoch = 15: 100%|██████████| 12/12 [00:01<00:00, 10.38it/s, valid_loss=1.7, valid_f1score=0.389] \n",
      "Training epoch = 16: 100%|██████████| 67/67 [00:07<00:00,  8.93it/s, training_loss=1.5, training_f1score=0.522] \n",
      "## Valid epoch = 16: 100%|██████████| 12/12 [00:01<00:00, 10.17it/s, valid_loss=1.69, valid_f1score=0.386]\n",
      "Training epoch = 17: 100%|██████████| 67/67 [00:07<00:00,  8.95it/s, training_loss=1.5, training_f1score=0.522]\n",
      "## Valid epoch = 17: 100%|██████████| 12/12 [00:01<00:00,  9.61it/s, valid_loss=1.69, valid_f1score=0.398]\n",
      "Training epoch = 18: 100%|██████████| 67/67 [00:07<00:00,  9.03it/s, training_loss=1.5, training_f1score=0.526]\n",
      "## Valid epoch = 18: 100%|██████████| 12/12 [00:01<00:00,  9.59it/s, valid_loss=1.69, valid_f1score=0.39] \n",
      "Training epoch = 19: 100%|██████████| 67/67 [00:07<00:00,  8.99it/s, training_loss=1.49, training_f1score=0.53] \n",
      "## Valid epoch = 19: 100%|██████████| 12/12 [00:01<00:00,  9.53it/s, valid_loss=1.69, valid_f1score=0.387]\n",
      "Training epoch = 20: 100%|██████████| 67/67 [00:07<00:00,  9.01it/s, training_loss=1.49, training_f1score=0.524]\n",
      "## Valid epoch = 20: 100%|██████████| 12/12 [00:01<00:00,  9.75it/s, valid_loss=1.69, valid_f1score=0.393]\n",
      "Training epoch = 21: 100%|██████████| 67/67 [00:07<00:00,  9.01it/s, training_loss=1.49, training_f1score=0.528]\n",
      "## Valid epoch = 21: 100%|██████████| 12/12 [00:01<00:00,  9.65it/s, valid_loss=1.69, valid_f1score=0.389]\n",
      "Training epoch = 22: 100%|██████████| 67/67 [00:07<00:00,  9.01it/s, training_loss=1.49, training_f1score=0.527]\n",
      "## Valid epoch = 22: 100%|██████████| 12/12 [00:01<00:00,  9.63it/s, valid_loss=1.69, valid_f1score=0.388]\n",
      "Training epoch = 23: 100%|██████████| 67/67 [00:07<00:00,  8.87it/s, training_loss=1.49, training_f1score=0.528]\n",
      "## Valid epoch = 23: 100%|██████████| 12/12 [00:01<00:00, 10.28it/s, valid_loss=1.69, valid_f1score=0.399]\n",
      "Training epoch = 24: 100%|██████████| 67/67 [00:07<00:00,  8.90it/s, training_loss=1.49, training_f1score=0.524]\n",
      "## Valid epoch = 24: 100%|██████████| 12/12 [00:01<00:00, 10.34it/s, valid_loss=1.69, valid_f1score=0.394]\n",
      "Training epoch = 25: 100%|██████████| 67/67 [00:07<00:00,  8.88it/s, training_loss=1.49, training_f1score=0.526]\n",
      "## Valid epoch = 25: 100%|██████████| 12/12 [00:01<00:00, 10.22it/s, valid_loss=1.69, valid_f1score=0.402]\n",
      "Training epoch = 26: 100%|██████████| 67/67 [00:07<00:00,  8.90it/s, training_loss=1.49, training_f1score=0.521]\n",
      "## Valid epoch = 26: 100%|██████████| 12/12 [00:01<00:00, 10.27it/s, valid_loss=1.69, valid_f1score=0.392]\n",
      "Training epoch = 27: 100%|██████████| 67/67 [00:07<00:00,  8.87it/s, training_loss=1.49, training_f1score=0.526]\n",
      "## Valid epoch = 27: 100%|██████████| 12/12 [00:01<00:00, 10.33it/s, valid_loss=1.69, valid_f1score=0.395]\n",
      "Training epoch = 28: 100%|██████████| 67/67 [00:07<00:00,  8.89it/s, training_loss=1.47, training_f1score=0.6]  \n",
      "## Valid epoch = 28: 100%|██████████| 12/12 [00:01<00:00, 10.18it/s, valid_loss=1.71, valid_f1score=0.431]\n",
      "Training epoch = 29: 100%|██████████| 67/67 [00:07<00:00,  8.94it/s, training_loss=1.46, training_f1score=0.62] \n",
      "## Valid epoch = 29: 100%|██████████| 12/12 [00:01<00:00, 10.28it/s, valid_loss=1.68, valid_f1score=0.433]\n",
      "Training epoch = 30: 100%|██████████| 67/67 [00:07<00:00,  9.03it/s, training_loss=1.45, training_f1score=0.622]\n",
      "## Valid epoch = 30: 100%|██████████| 12/12 [00:01<00:00,  9.62it/s, valid_loss=1.69, valid_f1score=0.439]\n",
      "Training epoch = 31: 100%|██████████| 67/67 [00:07<00:00,  8.97it/s, training_loss=1.45, training_f1score=0.636]\n",
      "## Valid epoch = 31: 100%|██████████| 12/12 [00:01<00:00,  9.63it/s, valid_loss=1.68, valid_f1score=0.453]\n",
      "Training epoch = 32: 100%|██████████| 67/67 [00:07<00:00,  8.97it/s, training_loss=1.45, training_f1score=0.63] \n",
      "## Valid epoch = 32: 100%|██████████| 12/12 [00:01<00:00,  9.66it/s, valid_loss=1.69, valid_f1score=0.443]\n",
      "Training epoch = 33: 100%|██████████| 67/67 [00:07<00:00,  8.93it/s, training_loss=1.45, training_f1score=0.632]\n",
      "## Valid epoch = 33: 100%|██████████| 12/12 [00:01<00:00,  9.58it/s, valid_loss=1.68, valid_f1score=0.46] \n",
      "Training epoch = 34: 100%|██████████| 67/67 [00:07<00:00,  8.84it/s, training_loss=1.45, training_f1score=0.637]\n",
      "## Valid epoch = 34: 100%|██████████| 12/12 [00:01<00:00,  9.65it/s, valid_loss=1.68, valid_f1score=0.456]\n",
      "Training epoch = 35: 100%|██████████| 67/67 [00:07<00:00,  9.01it/s, training_loss=1.45, training_f1score=0.636]\n",
      "## Valid epoch = 35: 100%|██████████| 12/12 [00:01<00:00, 10.30it/s, valid_loss=1.67, valid_f1score=0.459]\n",
      "Training epoch = 36: 100%|██████████| 67/67 [00:07<00:00,  8.93it/s, training_loss=1.45, training_f1score=0.638]\n",
      "## Valid epoch = 36: 100%|██████████| 12/12 [00:01<00:00, 10.37it/s, valid_loss=1.68, valid_f1score=0.452]\n",
      "Training epoch = 37: 100%|██████████| 67/67 [00:07<00:00,  8.99it/s, training_loss=1.45, training_f1score=0.632]\n",
      "## Valid epoch = 37: 100%|██████████| 12/12 [00:01<00:00, 10.17it/s, valid_loss=1.67, valid_f1score=0.458]\n",
      "Training epoch = 38: 100%|██████████| 67/67 [00:07<00:00,  8.95it/s, training_loss=1.45, training_f1score=0.632]\n",
      "## Valid epoch = 38: 100%|██████████| 12/12 [00:01<00:00, 10.35it/s, valid_loss=1.67, valid_f1score=0.458]\n",
      "Training epoch = 39: 100%|██████████| 67/67 [00:07<00:00,  8.88it/s, training_loss=1.45, training_f1score=0.638]\n",
      "## Valid epoch = 39: 100%|██████████| 12/12 [00:01<00:00, 10.37it/s, valid_loss=1.67, valid_f1score=0.454]\n",
      "Training epoch = 40: 100%|██████████| 67/67 [00:07<00:00,  8.90it/s, training_loss=1.45, training_f1score=0.639]\n",
      "## Valid epoch = 40: 100%|██████████| 12/12 [00:01<00:00, 10.25it/s, valid_loss=1.66, valid_f1score=0.474]\n",
      "Training epoch = 41: 100%|██████████| 67/67 [00:07<00:00,  8.88it/s, training_loss=1.45, training_f1score=0.641]\n",
      "## Valid epoch = 41: 100%|██████████| 12/12 [00:01<00:00, 10.26it/s, valid_loss=1.67, valid_f1score=0.452]\n",
      "Training epoch = 42: 100%|██████████| 67/67 [00:07<00:00,  8.92it/s, training_loss=1.45, training_f1score=0.635]\n",
      "## Valid epoch = 42: 100%|██████████| 12/12 [00:01<00:00,  9.56it/s, valid_loss=1.67, valid_f1score=0.452]\n",
      "Training epoch = 43: 100%|██████████| 67/67 [00:07<00:00,  8.94it/s, training_loss=1.45, training_f1score=0.64] \n",
      "## Valid epoch = 43: 100%|██████████| 12/12 [00:01<00:00,  9.69it/s, valid_loss=1.67, valid_f1score=0.453]\n",
      "Training epoch = 44: 100%|██████████| 67/67 [00:07<00:00,  8.90it/s, training_loss=1.45, training_f1score=0.635]\n",
      "## Valid epoch = 44: 100%|██████████| 12/12 [00:01<00:00,  9.69it/s, valid_loss=1.68, valid_f1score=0.46] \n",
      "Training epoch = 45: 100%|██████████| 67/67 [00:07<00:00,  8.97it/s, training_loss=1.45, training_f1score=0.642]\n",
      "## Valid epoch = 45: 100%|██████████| 12/12 [00:01<00:00,  9.53it/s, valid_loss=1.67, valid_f1score=0.456]\n",
      "Training epoch = 46: 100%|██████████| 67/67 [00:07<00:00,  9.01it/s, training_loss=1.45, training_f1score=0.643]\n",
      "## Valid epoch = 46: 100%|██████████| 12/12 [00:01<00:00, 10.35it/s, valid_loss=1.67, valid_f1score=0.46] \n",
      "Training epoch = 47: 100%|██████████| 67/67 [00:07<00:00,  8.91it/s, training_loss=1.45, training_f1score=0.641]\n",
      "## Valid epoch = 47: 100%|██████████| 12/12 [00:01<00:00, 10.18it/s, valid_loss=1.68, valid_f1score=0.455]\n",
      "Training epoch = 48: 100%|██████████| 67/67 [00:07<00:00,  8.89it/s, training_loss=1.45, training_f1score=0.636]\n",
      "## Valid epoch = 48: 100%|██████████| 12/12 [00:01<00:00, 10.27it/s, valid_loss=1.67, valid_f1score=0.466]\n",
      "Training epoch = 49: 100%|██████████| 67/67 [00:07<00:00,  8.94it/s, training_loss=1.45, training_f1score=0.64] \n",
      "## Valid epoch = 49: 100%|██████████| 12/12 [00:01<00:00, 10.18it/s, valid_loss=1.67, valid_f1score=0.46] \n",
      "Training epoch = 50: 100%|██████████| 67/67 [00:07<00:00,  8.97it/s, training_loss=1.45, training_f1score=0.642]\n",
      "## Valid epoch = 50: 100%|██████████| 12/12 [00:01<00:00, 10.34it/s, valid_loss=1.67, valid_f1score=0.451]\n",
      "Training epoch = 51: 100%|██████████| 67/67 [00:07<00:00,  8.87it/s, training_loss=1.44, training_f1score=0.638]\n",
      "## Valid epoch = 51: 100%|██████████| 12/12 [00:01<00:00, 10.02it/s, valid_loss=1.67, valid_f1score=0.457]\n",
      "Training epoch = 52: 100%|██████████| 67/67 [00:07<00:00,  9.07it/s, training_loss=1.44, training_f1score=0.64] \n",
      "## Valid epoch = 52: 100%|██████████| 12/12 [00:01<00:00,  9.64it/s, valid_loss=1.68, valid_f1score=0.448]\n",
      "Training epoch = 53: 100%|██████████| 67/67 [00:07<00:00,  9.01it/s, training_loss=1.44, training_f1score=0.634]\n",
      "## Valid epoch = 53: 100%|██████████| 12/12 [00:01<00:00,  9.67it/s, valid_loss=1.67, valid_f1score=0.449]\n",
      "Training epoch = 54: 100%|██████████| 67/67 [00:07<00:00,  9.05it/s, training_loss=1.43, training_f1score=0.693]\n",
      "## Valid epoch = 54: 100%|██████████| 12/12 [00:01<00:00,  9.55it/s, valid_loss=1.69, valid_f1score=0.481]\n",
      "Training epoch = 55: 100%|██████████| 67/67 [00:07<00:00,  9.03it/s, training_loss=1.42, training_f1score=0.75] \n",
      "## Valid epoch = 55: 100%|██████████| 12/12 [00:01<00:00,  9.70it/s, valid_loss=1.68, valid_f1score=0.489]\n",
      "Training epoch = 56: 100%|██████████| 67/67 [00:07<00:00,  9.00it/s, training_loss=1.41, training_f1score=0.754]\n",
      "## Valid epoch = 56: 100%|██████████| 12/12 [00:01<00:00,  9.58it/s, valid_loss=1.69, valid_f1score=0.469]\n",
      "Training epoch = 57: 100%|██████████| 67/67 [00:07<00:00,  8.98it/s, training_loss=1.41, training_f1score=0.767]\n",
      "## Valid epoch = 57: 100%|██████████| 12/12 [00:01<00:00, 10.34it/s, valid_loss=1.68, valid_f1score=0.5]  \n",
      "Training epoch = 58: 100%|██████████| 67/67 [00:07<00:00,  8.95it/s, training_loss=1.4, training_f1score=0.774]\n",
      "## Valid epoch = 58: 100%|██████████| 12/12 [00:01<00:00, 10.16it/s, valid_loss=1.7, valid_f1score=0.482]\n",
      "Training epoch = 59: 100%|██████████| 67/67 [00:07<00:00,  8.91it/s, training_loss=1.4, training_f1score=0.777]\n",
      "## Valid epoch = 59: 100%|██████████| 12/12 [00:01<00:00, 10.37it/s, valid_loss=1.68, valid_f1score=0.497]\n",
      "Training epoch = 60: 100%|██████████| 67/67 [00:07<00:00,  8.93it/s, training_loss=1.4, training_f1score=0.781]\n",
      "## Valid epoch = 60: 100%|██████████| 12/12 [00:01<00:00, 10.33it/s, valid_loss=1.68, valid_f1score=0.48] \n",
      "Training epoch = 61: 100%|██████████| 67/67 [00:07<00:00,  8.99it/s, training_loss=1.4, training_f1score=0.779]\n",
      "## Valid epoch = 61: 100%|██████████| 12/12 [00:01<00:00, 10.37it/s, valid_loss=1.69, valid_f1score=0.488]\n",
      "Training epoch = 62: 100%|██████████| 67/67 [00:07<00:00,  8.95it/s, training_loss=1.4, training_f1score=0.781]\n",
      "## Valid epoch = 62: 100%|██████████| 12/12 [00:01<00:00, 10.33it/s, valid_loss=1.67, valid_f1score=0.488]\n",
      "Training epoch = 63: 100%|██████████| 67/67 [00:07<00:00,  8.85it/s, training_loss=1.4, training_f1score=0.779]\n",
      "## Valid epoch = 63: 100%|██████████| 12/12 [00:01<00:00, 10.33it/s, valid_loss=1.68, valid_f1score=0.476]\n",
      "Training epoch = 64: 100%|██████████| 67/67 [00:07<00:00,  9.05it/s, training_loss=1.4, training_f1score=0.779]\n",
      "## Valid epoch = 64: 100%|██████████| 12/12 [00:01<00:00,  9.63it/s, valid_loss=1.67, valid_f1score=0.493]\n",
      "Training epoch = 65: 100%|██████████| 67/67 [00:07<00:00,  9.05it/s, training_loss=1.4, training_f1score=0.779]\n",
      "## Valid epoch = 65: 100%|██████████| 12/12 [00:01<00:00,  9.65it/s, valid_loss=1.67, valid_f1score=0.503]\n",
      "Training epoch = 66: 100%|██████████| 67/67 [00:07<00:00,  9.03it/s, training_loss=1.4, training_f1score=0.785]\n",
      "## Valid epoch = 66: 100%|██████████| 12/12 [00:01<00:00,  9.65it/s, valid_loss=1.68, valid_f1score=0.484]\n",
      "Training epoch = 67: 100%|██████████| 67/67 [00:07<00:00,  9.09it/s, training_loss=1.4, training_f1score=0.787]\n",
      "## Valid epoch = 67: 100%|██████████| 12/12 [00:01<00:00,  9.63it/s, valid_loss=1.66, valid_f1score=0.494]\n",
      "Training epoch = 68: 100%|██████████| 67/67 [00:07<00:00,  8.89it/s, training_loss=1.4, training_f1score=0.784] \n",
      "## Valid epoch = 68: 100%|██████████| 12/12 [00:01<00:00,  9.95it/s, valid_loss=1.68, valid_f1score=0.472]\n",
      "Training epoch = 69: 100%|██████████| 67/67 [00:07<00:00,  8.94it/s, training_loss=1.4, training_f1score=0.787]\n",
      "## Valid epoch = 69: 100%|██████████| 12/12 [00:01<00:00, 10.37it/s, valid_loss=1.68, valid_f1score=0.493]\n",
      "Training epoch = 70: 100%|██████████| 67/67 [00:07<00:00,  9.03it/s, training_loss=1.4, training_f1score=0.786]\n",
      "## Valid epoch = 70: 100%|██████████| 12/12 [00:01<00:00, 10.31it/s, valid_loss=1.67, valid_f1score=0.502]\n",
      "Training epoch = 71: 100%|██████████| 67/67 [00:07<00:00,  8.83it/s, training_loss=1.4, training_f1score=0.792] \n",
      "## Valid epoch = 71: 100%|██████████| 12/12 [00:01<00:00, 10.38it/s, valid_loss=1.67, valid_f1score=0.497]\n",
      "Training epoch = 72: 100%|██████████| 67/67 [00:07<00:00,  8.91it/s, training_loss=1.4, training_f1score=0.786] \n",
      "## Valid epoch = 72: 100%|██████████| 12/12 [00:01<00:00, 10.36it/s, valid_loss=1.68, valid_f1score=0.472]\n",
      "Training epoch = 73: 100%|██████████| 67/67 [00:07<00:00,  8.89it/s, training_loss=1.4, training_f1score=0.787]\n",
      "## Valid epoch = 73: 100%|██████████| 12/12 [00:01<00:00, 10.20it/s, valid_loss=1.67, valid_f1score=0.487]\n",
      "Training epoch = 74: 100%|██████████| 67/67 [00:07<00:00,  8.96it/s, training_loss=1.4, training_f1score=0.782]\n",
      "## Valid epoch = 74: 100%|██████████| 12/12 [00:01<00:00,  9.69it/s, valid_loss=1.68, valid_f1score=0.48] \n",
      "Training epoch = 75: 100%|██████████| 67/67 [00:07<00:00,  8.89it/s, training_loss=1.4, training_f1score=0.782] \n",
      "## Valid epoch = 75: 100%|██████████| 12/12 [00:01<00:00,  9.52it/s, valid_loss=1.66, valid_f1score=0.5]  \n",
      "Training epoch = 76: 100%|██████████| 67/67 [00:07<00:00,  8.99it/s, training_loss=1.4, training_f1score=0.788]\n",
      "## Valid epoch = 76: 100%|██████████| 12/12 [00:01<00:00,  9.50it/s, valid_loss=1.68, valid_f1score=0.487]\n",
      "Training epoch = 77: 100%|██████████| 67/67 [00:07<00:00,  9.01it/s, training_loss=1.4, training_f1score=0.788]\n",
      "## Valid epoch = 77: 100%|██████████| 12/12 [00:01<00:00,  9.75it/s, valid_loss=1.68, valid_f1score=0.47] \n",
      "Training epoch = 78: 100%|██████████| 67/67 [00:07<00:00,  8.92it/s, training_loss=1.4, training_f1score=0.79]  \n",
      "## Valid epoch = 78: 100%|██████████| 12/12 [00:01<00:00,  9.61it/s, valid_loss=1.67, valid_f1score=0.498]\n",
      "Training epoch = 79: 100%|██████████| 67/67 [00:07<00:00,  8.99it/s, training_loss=1.4, training_f1score=0.783]\n",
      "## Valid epoch = 79: 100%|██████████| 12/12 [00:01<00:00, 10.35it/s, valid_loss=1.66, valid_f1score=0.504]\n",
      "Training epoch = 80: 100%|██████████| 67/67 [00:07<00:00,  8.91it/s, training_loss=1.4, training_f1score=0.787] \n",
      "## Valid epoch = 80: 100%|██████████| 12/12 [00:01<00:00, 10.22it/s, valid_loss=1.68, valid_f1score=0.478]\n",
      "Training epoch = 81: 100%|██████████| 67/67 [00:07<00:00,  8.92it/s, training_loss=1.4, training_f1score=0.783] \n",
      "## Valid epoch = 81: 100%|██████████| 12/12 [00:01<00:00, 10.23it/s, valid_loss=1.67, valid_f1score=0.501]\n",
      "Training epoch = 82: 100%|██████████| 67/67 [00:07<00:00,  8.90it/s, training_loss=1.4, training_f1score=0.789] \n",
      "## Valid epoch = 82: 100%|██████████| 12/12 [00:01<00:00, 10.30it/s, valid_loss=1.66, valid_f1score=0.498]\n",
      "Training epoch = 83: 100%|██████████| 67/67 [00:07<00:00,  8.84it/s, training_loss=1.4, training_f1score=0.784] \n",
      "## Valid epoch = 83: 100%|██████████| 12/12 [00:01<00:00, 10.34it/s, valid_loss=1.67, valid_f1score=0.488]\n",
      "Training epoch = 84: 100%|██████████| 67/67 [00:07<00:00,  8.87it/s, training_loss=1.4, training_f1score=0.783] \n",
      "## Valid epoch = 84: 100%|██████████| 12/12 [00:01<00:00, 10.21it/s, valid_loss=1.67, valid_f1score=0.489]\n",
      "Training epoch = 85: 100%|██████████| 67/67 [00:07<00:00,  8.86it/s, training_loss=1.4, training_f1score=0.789] \n",
      "## Valid epoch = 85: 100%|██████████| 12/12 [00:01<00:00, 10.28it/s, valid_loss=1.66, valid_f1score=0.5]  \n",
      "Training epoch = 86: 100%|██████████| 67/67 [00:07<00:00,  8.94it/s, training_loss=1.4, training_f1score=0.78] \n",
      "## Valid epoch = 86: 100%|██████████| 12/12 [00:01<00:00,  9.65it/s, valid_loss=1.68, valid_f1score=0.48] \n",
      "Training epoch = 87: 100%|██████████| 67/67 [00:07<00:00,  8.94it/s, training_loss=1.4, training_f1score=0.778]\n",
      "## Valid epoch = 87: 100%|██████████| 12/12 [00:01<00:00,  9.56it/s, valid_loss=1.65, valid_f1score=0.508]\n",
      "Training epoch = 88: 100%|██████████| 67/67 [00:07<00:00,  8.96it/s, training_loss=1.4, training_f1score=0.784] \n",
      "## Valid epoch = 88: 100%|██████████| 12/12 [00:01<00:00,  9.60it/s, valid_loss=1.66, valid_f1score=0.484]\n",
      "Training epoch = 89: 100%|██████████| 67/67 [00:07<00:00,  8.93it/s, training_loss=1.4, training_f1score=0.791] \n",
      "## Valid epoch = 89: 100%|██████████| 12/12 [00:01<00:00,  9.63it/s, valid_loss=1.67, valid_f1score=0.486]\n",
      "Training epoch = 90: 100%|██████████| 67/67 [00:07<00:00,  8.91it/s, training_loss=1.39, training_f1score=0.786]\n",
      "## Valid epoch = 90: 100%|██████████| 12/12 [00:01<00:00, 10.31it/s, valid_loss=1.66, valid_f1score=0.498]\n",
      "Training epoch = 91: 100%|██████████| 67/67 [00:07<00:00,  8.86it/s, training_loss=1.39, training_f1score=0.78] \n",
      "## Valid epoch = 91: 100%|██████████| 12/12 [00:01<00:00, 10.29it/s, valid_loss=1.66, valid_f1score=0.498]\n",
      "Training epoch = 92: 100%|██████████| 67/67 [00:07<00:00,  8.91it/s, training_loss=1.39, training_f1score=0.782]\n",
      "## Valid epoch = 92: 100%|██████████| 12/12 [00:01<00:00, 10.35it/s, valid_loss=1.66, valid_f1score=0.505]\n",
      "Training epoch = 93: 100%|██████████| 67/67 [00:07<00:00,  8.92it/s, training_loss=1.4, training_f1score=0.783] \n",
      "## Valid epoch = 93: 100%|██████████| 12/12 [00:01<00:00, 10.13it/s, valid_loss=1.67, valid_f1score=0.489]\n",
      "Training epoch = 94: 100%|██████████| 67/67 [00:07<00:00,  8.85it/s, training_loss=1.39, training_f1score=0.79] \n",
      "## Valid epoch = 94: 100%|██████████| 12/12 [00:01<00:00, 10.12it/s, valid_loss=1.66, valid_f1score=0.498]\n",
      "Training epoch = 95: 100%|██████████| 67/67 [00:07<00:00,  8.90it/s, training_loss=1.39, training_f1score=0.782]\n",
      "## Valid epoch = 95: 100%|██████████| 12/12 [00:01<00:00, 10.31it/s, valid_loss=1.67, valid_f1score=0.472]\n",
      "Training epoch = 96: 100%|██████████| 67/67 [00:07<00:00,  8.91it/s, training_loss=1.39, training_f1score=0.786]\n",
      "## Valid epoch = 96: 100%|██████████| 12/12 [00:01<00:00, 10.20it/s, valid_loss=1.66, valid_f1score=0.504]\n",
      "Training epoch = 97: 100%|██████████| 67/67 [00:07<00:00,  8.91it/s, training_loss=1.4, training_f1score=0.784] \n",
      "## Valid epoch = 97: 100%|██████████| 12/12 [00:01<00:00, 10.21it/s, valid_loss=1.67, valid_f1score=0.477]\n",
      "Training epoch = 98: 100%|██████████| 67/67 [00:07<00:00,  8.97it/s, training_loss=1.4, training_f1score=0.783]\n",
      "## Valid epoch = 98: 100%|██████████| 12/12 [00:01<00:00,  9.68it/s, valid_loss=1.66, valid_f1score=0.514]\n",
      "Training epoch = 99: 100%|██████████| 67/67 [00:07<00:00,  9.00it/s, training_loss=1.39, training_f1score=0.785]\n",
      "## Valid epoch = 99: 100%|██████████| 12/12 [00:01<00:00,  9.46it/s, valid_loss=1.67, valid_f1score=0.476]\n"
     ]
    }
   ],
   "source": [
    "train_histories = persgraph_cls.train(X_train, X_valid, epochs=100, optimizer='adamw')"
   ]
  },
  {
   "cell_type": "code",
   "execution_count": 18,
   "metadata": {},
   "outputs": [
    {
     "data": {
      "image/png": "[encoded data removed]",
      "text/plain": [
       "<Figure size 640x480 with 1 Axes>"
      ]
     },
     "metadata": {},
     "output_type": "display_data"
    }
   ],
   "source": [
    "plt.plot(train_histories[0])\n",
    "plt.plot(train_histories[2])\n",
    "plt.legend(['train loss', 'valid loss'])\n",
    "plt.title('Train history loss')\n",
    "plt.show()"
   ]
  },
  {
   "cell_type": "code",
   "execution_count": 23,
   "metadata": {},
   "outputs": [
    {
     "name": "stderr",
     "output_type": "stream",
     "text": [
      "## Test : 100%|██████████| 27/27 [00:50<00:00,  1.88s/it]\n"
     ]
    },
    {
     "data": {
      "text/plain": [
       "0.4350205615644702"
      ]
     },
     "execution_count": 23,
     "metadata": {},
     "output_type": "execute_result"
    }
   ],
   "source": [
    "persgraph_cls.compute(X_test)"
   ]
  }
 ],
 "metadata": {
  "kernelspec": {
   "display_name": "Python 3 (ipykernel)",
   "language": "python",
   "name": "python3"
  },
  "language_info": {
   "codemirror_mode": {
    "name": "ipython",
    "version": 3
   },
   "file_extension": ".py",
   "mimetype": "text/x-python",
   "name": "python",
   "nbconvert_exporter": "python",
   "pygments_lexer": "ipython3",
   "version": "3.8.10"
  }
 },
 "nbformat": 4,
 "nbformat_minor": 2
}
