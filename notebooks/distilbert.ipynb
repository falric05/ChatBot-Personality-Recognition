{
 "cells": [
  {
   "cell_type": "code",
   "execution_count": 1,
   "metadata": {},
   "outputs": [
    {
     "name": "stderr",
     "output_type": "stream",
     "text": [
      "2023-03-13 15:16:46.800923: I tensorflow/core/platform/cpu_feature_guard.cc:193] This TensorFlow binary is optimized with oneAPI Deep Neural Network Library (oneDNN) to use the following CPU instructions in performance-critical operations:  AVX2 FMA\n",
      "To enable them in other operations, rebuild TensorFlow with the appropriate compiler flags.\n",
      "2023-03-13 15:16:47.063400: W tensorflow/compiler/xla/stream_executor/platform/default/dso_loader.cc:64] Could not load dynamic library 'libcudart.so.11.0'; dlerror: libcudart.so.11.0: cannot open shared object file: No such file or directory\n",
      "2023-03-13 15:16:47.063432: I tensorflow/compiler/xla/stream_executor/cuda/cudart_stub.cc:29] Ignore above cudart dlerror if you do not have a GPU set up on your machine.\n",
      "2023-03-13 15:16:48.053093: W tensorflow/compiler/xla/stream_executor/platform/default/dso_loader.cc:64] Could not load dynamic library 'libnvinfer.so.7'; dlerror: libnvinfer.so.7: cannot open shared object file: No such file or directory\n",
      "2023-03-13 15:16:48.053447: W tensorflow/compiler/xla/stream_executor/platform/default/dso_loader.cc:64] Could not load dynamic library 'libnvinfer_plugin.so.7'; dlerror: libnvinfer_plugin.so.7: cannot open shared object file: No such file or directory\n",
      "2023-03-13 15:16:48.053491: W tensorflow/compiler/tf2tensorrt/utils/py_utils.cc:38] TF-TRT Warning: Cannot dlopen some TensorRT libraries. If you would like to use Nvidia GPU with TensorRT, please make sure the missing libraries mentioned above are installed properly.\n"
     ]
    }
   ],
   "source": [
    "import pandas as pd\n",
    "import os\n",
    "from os.path import join\n",
    "import numpy as np\n",
    "from lib.BBData import character_dict, random_state, model_name\n",
    "from lib.BBDataLoad import load_char_df, get_chatbot_predictions\n",
    "# from lib.BBVisualizations import BBVisualization, PlotsEnum\n",
    "from lib.metrics.triplet_nn_classifier import BarneyBotTripletClassifier\n",
    "from lib.metrics.distil_bert_classifier import DistilBertClassifier\n",
    "from lib.metrics.frequency import sentence_preprocess, FrequencyClassifier\n",
    "from lib.visualizations.emotionsradar import EmotionsRadar"
   ]
  },
  {
   "cell_type": "code",
   "execution_count": 2,
   "metadata": {},
   "outputs": [],
   "source": [
    "characters = list(character_dict.keys())\n",
    "characters_noDefault = list(character_dict.keys())\n",
    "characters_noDefault.remove('Default')\n",
    "base_folder = os.getcwd()\n",
    "data_folder = join(base_folder, 'Data', 'Characters')\n",
    "model_folder = join(base_folder, 'models')\n",
    "out_folder = os.getcwd().join('tmp')\n",
    "figsize = (8, 8)\n",
    "\n",
    "character = 'Default'"
   ]
  },
  {
   "cell_type": "code",
   "execution_count": 3,
   "metadata": {},
   "outputs": [],
   "source": [
    "# read Default dataset and sample 0.02 fraction of the whole dataset\n",
    "df = pd.read_csv(os.path.join(data_folder, character, f'{character}.tsv'), \n",
    "                    names=['response', character], sep='\\t')\n",
    "df = df.sample(frac=0.02, random_state=random_state)\n",
    "df['response'] = df['response'].apply(lambda x: x[3:])\n",
    "df[character] = df[character].apply(lambda x: x[3:])"
   ]
  },
  {
   "cell_type": "code",
   "execution_count": 4,
   "metadata": {},
   "outputs": [
    {
     "data": {
      "text/html": [
       "<div>\n",
       "<style scoped>\n",
       "    .dataframe tbody tr th:only-of-type {\n",
       "        vertical-align: middle;\n",
       "    }\n",
       "\n",
       "    .dataframe tbody tr th {\n",
       "        vertical-align: top;\n",
       "    }\n",
       "\n",
       "    .dataframe thead th {\n",
       "        text-align: right;\n",
       "    }\n",
       "</style>\n",
       "<table border=\"1\" class=\"dataframe\">\n",
       "  <thead>\n",
       "    <tr style=\"text-align: right;\">\n",
       "      <th></th>\n",
       "      <th>response</th>\n",
       "      <th>Default</th>\n",
       "    </tr>\n",
       "  </thead>\n",
       "  <tbody>\n",
       "    <tr>\n",
       "      <th>687619</th>\n",
       "      <td>I'm out of the top 30 ! Thats it , tonight , ...</td>\n",
       "      <td>well , tomorrow night , i start to play again...</td>\n",
       "    </tr>\n",
       "    <tr>\n",
       "      <th>24116</th>\n",
       "      <td>300 billion ... and our jaunts in the mid eas...</td>\n",
       "      <td>Go ahead and estimate how soon you think the ...</td>\n",
       "    </tr>\n",
       "    <tr>\n",
       "      <th>575637</th>\n",
       "      <td>What does where's the pool ? mean ?</td>\n",
       "      <td>press pool ?</td>\n",
       "    </tr>\n",
       "    <tr>\n",
       "      <th>719887</th>\n",
       "      <td>Wow , thanks for the insightful and very cons...</td>\n",
       "      <td>I believe I fall into that category , therefo...</td>\n",
       "    </tr>\n",
       "    <tr>\n",
       "      <th>192352</th>\n",
       "      <td>Women are incapable of writing great novels .</td>\n",
       "      <td>Wuthering Heights .</td>\n",
       "    </tr>\n",
       "  </tbody>\n",
       "</table>\n",
       "</div>"
      ],
      "text/plain": [
       "                                                 response  \\\n",
       "687619   I'm out of the top 30 ! Thats it , tonight , ...   \n",
       "24116    300 billion ... and our jaunts in the mid eas...   \n",
       "575637                What does where's the pool ? mean ?   \n",
       "719887   Wow , thanks for the insightful and very cons...   \n",
       "192352      Women are incapable of writing great novels .   \n",
       "\n",
       "                                                  Default  \n",
       "687619   well , tomorrow night , i start to play again...  \n",
       "24116    Go ahead and estimate how soon you think the ...  \n",
       "575637                                       press pool ?  \n",
       "719887   I believe I fall into that category , therefo...  \n",
       "192352                                Wuthering Heights .  "
      ]
     },
     "execution_count": 4,
     "metadata": {},
     "output_type": "execute_result"
    }
   ],
   "source": [
    "df.head()"
   ]
  },
  {
   "cell_type": "code",
   "execution_count": 29,
   "metadata": {},
   "outputs": [
    {
     "data": {
      "text/html": [
       "<div>\n",
       "<style scoped>\n",
       "    .dataframe tbody tr th:only-of-type {\n",
       "        vertical-align: middle;\n",
       "    }\n",
       "\n",
       "    .dataframe tbody tr th {\n",
       "        vertical-align: top;\n",
       "    }\n",
       "\n",
       "    .dataframe thead th {\n",
       "        text-align: right;\n",
       "    }\n",
       "</style>\n",
       "<table border=\"1\" class=\"dataframe\">\n",
       "  <thead>\n",
       "    <tr style=\"text-align: right;\">\n",
       "      <th></th>\n",
       "      <th>line</th>\n",
       "      <th>character</th>\n",
       "    </tr>\n",
       "  </thead>\n",
       "  <tbody>\n",
       "    <tr>\n",
       "      <th>4855</th>\n",
       "      <td>For real and they hate them with good reason ...</td>\n",
       "      <td>1</td>\n",
       "    </tr>\n",
       "    <tr>\n",
       "      <th>14474</th>\n",
       "      <td>It was Danielle's entire lifetime at that poi...</td>\n",
       "      <td>1</td>\n",
       "    </tr>\n",
       "    <tr>\n",
       "      <th>19589</th>\n",
       "      <td>The injury cost the military 17,748 . 00 . Ju...</td>\n",
       "      <td>0</td>\n",
       "    </tr>\n",
       "    <tr>\n",
       "      <th>3084</th>\n",
       "      <td>The intent is to make money .</td>\n",
       "      <td>1</td>\n",
       "    </tr>\n",
       "    <tr>\n",
       "      <th>22545</th>\n",
       "      <td>Chinese are white now ? Interesting you shoul...</td>\n",
       "      <td>0</td>\n",
       "    </tr>\n",
       "    <tr>\n",
       "      <th>8918</th>\n",
       "      <td>Damn ... how did you do that ? !</td>\n",
       "      <td>1</td>\n",
       "    </tr>\n",
       "    <tr>\n",
       "      <th>19688</th>\n",
       "      <td>Problem is , the masses want this . EOS 1.0 W...</td>\n",
       "      <td>0</td>\n",
       "    </tr>\n",
       "    <tr>\n",
       "      <th>5829</th>\n",
       "      <td>Do not focus on the finger , or you will miss...</td>\n",
       "      <td>1</td>\n",
       "    </tr>\n",
       "    <tr>\n",
       "      <th>23647</th>\n",
       "      <td>So That explains it . There must be hordes of...</td>\n",
       "      <td>0</td>\n",
       "    </tr>\n",
       "    <tr>\n",
       "      <th>12126</th>\n",
       "      <td>That amounts to the same thing does it not ? ...</td>\n",
       "      <td>1</td>\n",
       "    </tr>\n",
       "  </tbody>\n",
       "</table>\n",
       "</div>"
      ],
      "text/plain": [
       "                                                    line character\n",
       "4855    For real and they hate them with good reason ...         1\n",
       "14474   It was Danielle's entire lifetime at that poi...         1\n",
       "19589   The injury cost the military 17,748 . 00 . Ju...         0\n",
       "3084                       The intent is to make money .         1\n",
       "22545   Chinese are white now ? Interesting you shoul...         0\n",
       "8918                    Damn ... how did you do that ? !         1\n",
       "19688   Problem is , the masses want this . EOS 1.0 W...         0\n",
       "5829    Do not focus on the finger , or you will miss...         1\n",
       "23647   So That explains it . There must be hordes of...         0\n",
       "12126   That amounts to the same thing does it not ? ...         1"
      ]
     },
     "execution_count": 29,
     "metadata": {},
     "output_type": "execute_result"
    }
   ],
   "source": [
    "len_df = len(df[character].to_list())\n",
    "lines        = df[character].to_list() + df['response'].to_list()\n",
    "is_character = [1 for _ in range(len_df)] + [0 for _ in range(len_df)]\n",
    "df_classifier = np.array([lines, is_character])\n",
    "\n",
    "df_classifier = pd.DataFrame(df_classifier.T, columns=['line','character'])\n",
    "df_classifier = df_classifier.sample(frac=1, random_state=random_state)\n",
    "df_classifier.head(10)"
   ]
  },
  {
   "cell_type": "code",
   "execution_count": 31,
   "metadata": {},
   "outputs": [],
   "source": [
    "df_classifier.to_csv(join(data_folder, character, character.lower()+'_classifier.csv'), index=False)"
   ]
  }
 ],
 "metadata": {
  "kernelspec": {
   "display_name": "Python 3",
   "language": "python",
   "name": "python3"
  },
  "language_info": {
   "codemirror_mode": {
    "name": "ipython",
    "version": 3
   },
   "file_extension": ".py",
   "mimetype": "text/x-python",
   "name": "python",
   "nbconvert_exporter": "python",
   "pygments_lexer": "ipython3",
   "version": "3.8.16"
  },
  "orig_nbformat": 4
 },
 "nbformat": 4,
 "nbformat_minor": 2
}
